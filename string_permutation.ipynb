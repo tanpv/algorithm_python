{
 "cells": [
  {
   "cell_type": "code",
   "execution_count": null,
   "metadata": {
    "collapsed": true
   },
   "outputs": [],
   "source": [
    "# Determine if a string is a permutation of another string.\n",
    "#         assert_equal(func(None, 'foo'), False)\n",
    "#         assert_equal(func('', 'foo'), False)\n",
    "#         assert_equal(func('Nib', 'bin'), False)\n",
    "#         assert_equal(func('act', 'cat'), True)\n",
    "#         assert_equal(func('a ct', 'ca t'), True)\n",
    "#         assert_equal(func('dog', 'doggo'), False)\n",
    "\n",
    "str1 = \"cat\"\n",
    "str2 = \"tac\"\n"
   ]
  }
 ],
 "metadata": {
  "kernelspec": {
   "display_name": "Python 3",
   "language": "python",
   "name": "python3"
  },
  "language_info": {
   "codemirror_mode": {
    "name": "ipython",
    "version": 3
   },
   "file_extension": ".py",
   "mimetype": "text/x-python",
   "name": "python",
   "nbconvert_exporter": "python",
   "pygments_lexer": "ipython3",
   "version": "3.6.1"
  }
 },
 "nbformat": 4,
 "nbformat_minor": 2
}
