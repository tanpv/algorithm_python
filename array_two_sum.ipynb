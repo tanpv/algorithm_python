{
 "cells": [
  {
   "cell_type": "code",
   "execution_count": 3,
   "metadata": {},
   "outputs": [
    {
     "name": "stdout",
     "output_type": "stream",
     "text": [
      "2 3\n"
     ]
    }
   ],
   "source": [
    "\"\"\"\n",
    "Given an array of integers, return indices of the two numbers\n",
    "such that they add up to a specific target.\n",
    "You may assume that each input would have exactly one solution,\n",
    "and you may not use the same element twice.\n",
    "Example:\n",
    "    Given nums = [2, 7, 11, 15], target = 9,\n",
    "    Because nums[0] + nums[1] = 2 + 7 = 9,\n",
    "    return [0, 1].\n",
    "\"\"\"\n",
    "\n",
    "input_array = [2, 7, 11, 15]\n",
    "target = 26\n",
    "result = []\n",
    "\n",
    "for idx, num in enumerate(input_array):\n",
    "    sub_array = input_array[idx+1:]\n",
    "    for sub_idx, sub_num in enumerate(sub_array):\n",
    "        if (input_array[idx]+sub_array[sub_idx]==target):\n",
    "            #found\n",
    "            print(idx, idx+1+sub_idx)\n",
    "    \n",
    "\n"
   ]
  }
 ],
 "metadata": {
  "kernelspec": {
   "display_name": "Python 3",
   "language": "python",
   "name": "python3"
  },
  "language_info": {
   "codemirror_mode": {
    "name": "ipython",
    "version": 3
   },
   "file_extension": ".py",
   "mimetype": "text/x-python",
   "name": "python",
   "nbconvert_exporter": "python",
   "pygments_lexer": "ipython3",
   "version": "3.6.1"
  }
 },
 "nbformat": 4,
 "nbformat_minor": 2
}
