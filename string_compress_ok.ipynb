{
 "cells": [
  {
   "cell_type": "code",
   "execution_count": 7,
   "metadata": {},
   "outputs": [
    {
     "name": "stdout",
     "output_type": "stream",
     "text": [
      "A3\n",
      "B\n",
      "C2\n",
      "D4\n",
      "A3BC2D4\n"
     ]
    }
   ],
   "source": [
    "# Compress a string such that 'AAABCCDDDD' becomes 'A3BC2D4'. Only compress the string if it saves space.\n",
    "\n",
    "in_str = 'AAABCCDDDD'\n",
    "out_str = ''\n",
    "\n",
    "i=0\n",
    "while i < len(in_str):\n",
    "    \n",
    "    # init counter and compressed     \n",
    "    counter = 1\n",
    "    compress = in_str[i]\n",
    "    \n",
    "    # find compress for 1 character\n",
    "    # increase counter if 2 characters are same    \n",
    "    while (i+1<len(in_str)) and (in_str[i]==in_str[i+1]):\n",
    "        counter=counter+1\n",
    "        i=i+1\n",
    "        # build compress         \n",
    "        compress=in_str[i]+str(counter)\n",
    "        \n",
    "    print(compress)\n",
    "    \n",
    "    # build result     \n",
    "    out_str = out_str + compress\n",
    "    \n",
    "    # move to next kind of character     \n",
    "    i = i+1\n",
    "\n",
    "print(out_str)\n",
    "\n"
   ]
  }
 ],
 "metadata": {
  "kernelspec": {
   "display_name": "Python 3",
   "language": "python",
   "name": "python3"
  },
  "language_info": {
   "codemirror_mode": {
    "name": "ipython",
    "version": 3
   },
   "file_extension": ".py",
   "mimetype": "text/x-python",
   "name": "python",
   "nbconvert_exporter": "python",
   "pygments_lexer": "ipython3",
   "version": "3.6.1"
  }
 },
 "nbformat": 4,
 "nbformat_minor": 2
}
