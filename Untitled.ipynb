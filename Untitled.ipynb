{
 "cells": [
  {
   "cell_type": "code",
   "execution_count": 8,
   "metadata": {},
   "outputs": [
    {
     "name": "stdout",
     "output_type": "stream",
     "text": [
      "{24: 0}\n",
      "{24: 0, 19: 1}\n",
      "{24: 0, 19: 1, 15: 2}\n",
      "2 3\n"
     ]
    }
   ],
   "source": [
    "# Given an array of integers, return indices of the two numbers\n",
    "# such that they add up to a specific target.\n",
    "# You may assume that each input would have exactly one solution\n",
    "\n",
    "# Example:\n",
    "#     Given nums = [2, 7, 11, 15], target = 26,\n",
    "#     Because nums[2] + nums[3] = 11 + 15 = 26,\n",
    "#     return [2, 3].\n",
    "\n",
    "# How to explain this one ?\n",
    "input_array = [2, 7, 11, 15]\n",
    "target = 26\n",
    "\n",
    "# need store both index and value --> use a dictionary\n",
    "remain = {}\n",
    "\n",
    "# Let take a dry running\n",
    "for i,num in enumerate(input_array):\n",
    "    if num not in remain:\n",
    "        #add remain_num to dic as key, value is index of num\n",
    "        remain[target - num] = i\n",
    "        print(remain)\n",
    "    else:\n",
    "        #found\n",
    "        #one index is i\n",
    "        #one index is value of index remain_num\n",
    "        print(remain[num], i)"
   ]
  }
 ],
 "metadata": {
  "kernelspec": {
   "display_name": "Python 3",
   "language": "python",
   "name": "python3"
  },
  "language_info": {
   "codemirror_mode": {
    "name": "ipython",
    "version": 3
   },
   "file_extension": ".py",
   "mimetype": "text/x-python",
   "name": "python",
   "nbconvert_exporter": "python",
   "pygments_lexer": "ipython3",
   "version": "3.6.1"
  }
 },
 "nbformat": 4,
 "nbformat_minor": 2
}
