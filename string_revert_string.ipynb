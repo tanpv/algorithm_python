{
 "cells": [
  {
   "cell_type": "code",
   "execution_count": 14,
   "metadata": {},
   "outputs": [
    {
     "name": "stdout",
     "output_type": "stream",
     "text": [
      "['o', 'l', 'l', 'e', 'h']\n"
     ]
    }
   ],
   "source": [
    "# Implement a function to reverse a string (a list of characters), in-place\n",
    "# \"hello\" --> \"olleh\"\n",
    "input_str = list(\"hello\")\n",
    "\n",
    "for i in range(0, int(len(input_str) / 2)):\n",
    "#     print(input_str[i], input_str[len(input_str)-i-1])\n",
    "    tmp = input_str[i]\n",
    "    input_str[i]=input_str[len(input_str)-i-1]\n",
    "    input_str[len(input_str)-i-1] = tmp\n",
    "\n",
    "print(str(input_str))\n",
    "    \n",
    "    \n",
    "\n",
    "\n",
    "\n",
    "\n"
   ]
  }
 ],
 "metadata": {
  "kernelspec": {
   "display_name": "Python 3",
   "language": "python",
   "name": "python3"
  },
  "language_info": {
   "codemirror_mode": {
    "name": "ipython",
    "version": 3
   },
   "file_extension": ".py",
   "mimetype": "text/x-python",
   "name": "python",
   "nbconvert_exporter": "python",
   "pygments_lexer": "ipython3",
   "version": "3.6.1"
  }
 },
 "nbformat": 4,
 "nbformat_minor": 2
}
