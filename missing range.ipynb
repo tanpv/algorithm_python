{
 "cells": [
  {
   "cell_type": "code",
   "execution_count": 3,
   "metadata": {},
   "outputs": [
    {
     "name": "stdout",
     "output_type": "stream",
     "text": [
      "[1, 2, 3, 4, 5, 6, 7, 8, 9, 10]\n"
     ]
    }
   ],
   "source": [
    "## find missing ranges between low and high in the given array.\n",
    "# ex) [3, 5] lo=1 hi=10 => answer: [1->2, 4, 6->10]\n",
    "\n",
    "input_array = [3,5]\n",
    "low = 1\n",
    "hight = 10\n",
    "\n",
    "full_range = []\n",
    "\n",
    "for i in range(low, hight+1):\n",
    "    full_range.append(i)\n",
    "\n",
    "print(full_range)\n",
    "\n",
    "for i in input_array:\n",
    "    "
   ]
  }
 ],
 "metadata": {
  "kernelspec": {
   "display_name": "Python 3",
   "language": "python",
   "name": "python3"
  },
  "language_info": {
   "codemirror_mode": {
    "name": "ipython",
    "version": 3
   },
   "file_extension": ".py",
   "mimetype": "text/x-python",
   "name": "python",
   "nbconvert_exporter": "python",
   "pygments_lexer": "ipython3",
   "version": "3.6.1"
  }
 },
 "nbformat": 4,
 "nbformat_minor": 2
}
