{
 "cells": [
  {
   "cell_type": "code",
   "execution_count": 10,
   "metadata": {},
   "outputs": [
    {
     "data": {
      "text/plain": [
       "True"
      ]
     },
     "execution_count": 10,
     "metadata": {},
     "output_type": "execute_result"
    }
   ],
   "source": [
    "# Determine if a string s1 is a rotation of another string s2, by calling (only once) a function is_substring.\n",
    "# 'foobarbaz', 'barbazfoo'\n",
    "\n",
    "str1 = \"foobarbaz\"\n",
    "str2 = \"barbazfoo\"\n",
    "\n",
    "def check_is_rotated(str1,str2):\n",
    "    is_rotated = False\n",
    "    for i in range(0,len(str2)):\n",
    "        rotated = str2[i:] + str2[:i]\n",
    "#         print(rotated)\n",
    "        if str1==rotated:\n",
    "            is_rotated = True\n",
    "    return is_rotated\n",
    "    \n",
    "check_is_rotated(str1, str2)"
   ]
  }
 ],
 "metadata": {
  "kernelspec": {
   "display_name": "Python 3",
   "language": "python",
   "name": "python3"
  },
  "language_info": {
   "codemirror_mode": {
    "name": "ipython",
    "version": 3
   },
   "file_extension": ".py",
   "mimetype": "text/x-python",
   "name": "python",
   "nbconvert_exporter": "python",
   "pygments_lexer": "ipython3",
   "version": "3.6.1"
  }
 },
 "nbformat": 4,
 "nbformat_minor": 2
}
