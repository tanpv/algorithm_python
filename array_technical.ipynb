{
 "cells": [
  {
   "cell_type": "code",
   "execution_count": 7,
   "metadata": {},
   "outputs": [
    {
     "name": "stdout",
     "output_type": "stream",
     "text": [
      "index : value\n",
      "0 a\n",
      "1 b\n",
      "2 c\n",
      "3 d\n",
      "a\n",
      "b\n",
      "c\n",
      "d\n",
      "0\n",
      "1\n",
      "2\n",
      "[2, 4, 6]\n"
     ]
    }
   ],
   "source": [
    "# Reading both index and value at same time using for loop\n",
    "# Python array index is started from 0\n",
    "characters = ['a','b','c','d']\n",
    "print(\"index : value\")\n",
    "for i,c in enumerate(characters):\n",
    "    print(i,c)\n",
    "    \n",
    "# Reading array using index and while loop\n",
    "characters = ['a','b','c','d']\n",
    "i=0\n",
    "while i < len(characters):\n",
    "    print(characters[i])\n",
    "    i=i+1\n",
    "\n",
    "# Changing on the fly\n",
    "nums = [1,2,3,4,5,6]\n",
    "\n",
    "for i,num in enumerate(nums):\n",
    "    print(i)\n",
    "    del nums[i]\n",
    "    \n",
    "print(nums)"
   ]
  }
 ],
 "metadata": {
  "kernelspec": {
   "display_name": "Python 3",
   "language": "python",
   "name": "python3"
  },
  "language_info": {
   "codemirror_mode": {
    "name": "ipython",
    "version": 3
   },
   "file_extension": ".py",
   "mimetype": "text/x-python",
   "name": "python",
   "nbconvert_exporter": "python",
   "pygments_lexer": "ipython3",
   "version": "3.6.1"
  }
 },
 "nbformat": 4,
 "nbformat_minor": 2
}
