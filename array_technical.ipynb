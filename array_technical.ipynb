{
 "cells": [
  {
   "cell_type": "code",
   "execution_count": 4,
   "metadata": {},
   "outputs": [
    {
     "name": "stdout",
     "output_type": "stream",
     "text": [
      "index : value\n",
      "0 a\n",
      "1 b\n",
      "2 c\n",
      "3 d\n",
      "a\n",
      "b\n",
      "c\n",
      "d\n"
     ]
    }
   ],
   "source": [
    "# Reading both index and value at same time using for loop\n",
    "characters = ['a','b','c','d']\n",
    "print(\"index : value\")\n",
    "for i,c in enumerate(characters):\n",
    "    print(i,c)\n",
    "    \n",
    "# Reading array using index and while loop\n",
    "characters = ['a','b','c','d']\n",
    "i=0\n",
    "while i < len(characters):\n",
    "    print(characters[i])\n",
    "    i=i+1\n",
    "\n",
    "# "
   ]
  }
 ],
 "metadata": {
  "kernelspec": {
   "display_name": "Python 3",
   "language": "python",
   "name": "python3"
  },
  "language_info": {
   "codemirror_mode": {
    "name": "ipython",
    "version": 3
   },
   "file_extension": ".py",
   "mimetype": "text/x-python",
   "name": "python",
   "nbconvert_exporter": "python",
   "pygments_lexer": "ipython3",
   "version": "3.6.1"
  }
 },
 "nbformat": 4,
 "nbformat_minor": 2
}
