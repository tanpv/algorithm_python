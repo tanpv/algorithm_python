{
 "cells": [
  {
   "cell_type": "code",
   "execution_count": 11,
   "metadata": {},
   "outputs": [
    {
     "name": "stdout",
     "output_type": "stream",
     "text": [
      "['a', 'b', 'c']\n",
      "['b', 'c', 'a']\n",
      "['c', 'a', 'b']\n",
      "['a', 'b', 'c']\n",
      "['b', 'c']\n",
      "['c', 'b']\n",
      "['b']\n",
      "['b']\n"
     ]
    },
    {
     "data": {
      "text/plain": [
       "3"
      ]
     },
     "execution_count": 11,
     "metadata": {},
     "output_type": "execute_result"
    }
   ],
   "source": [
    "# Given a string, find the length of the longest substring\n",
    "# without repeating characters.\n",
    "\n",
    "# Examples:\n",
    "\n",
    "# Given \"abcabcbb\", the answer is \"abc\", which the length is 3.\n",
    "\n",
    "# Given \"bbbbb\", the answer is \"b\", with the length of 1.\n",
    "\n",
    "# Given \"pwwkew\", the answer is \"wke\", with the length of 3.\n",
    "# Note that the answer must be a substring,\n",
    "# \"pwke\" is a subsequence and not a substring.\n",
    "\n",
    "\n",
    "str = \"pwwkew\"\n",
    "str = \"abcabcbb\"\n",
    "\n",
    "def longest_non_repeat(str):\n",
    "    \n",
    "    # init start position and max length     \n",
    "    i=0\n",
    "    max_length = 1\n",
    "\n",
    "    while i < len(str):\n",
    "\n",
    "        # init counter and sub string value         \n",
    "        start_at = i\n",
    "        sub_str=[]\n",
    "\n",
    "        # continue increase sub string if did not repeat character         \n",
    "        while (start_at < len(str)) and (str[start_at] not in sub_str):\n",
    "            sub_str.append(str[start_at])\n",
    "            start_at = start_at + 1\n",
    "\n",
    "        # update the max length   \n",
    "        if len(sub_str) > max_length:\n",
    "            max_length = len(sub_str)\n",
    "\n",
    "        print(sub_str)\n",
    "        # advance start check position         \n",
    "        i = i +1\n",
    "        \n",
    "    return max_length\n",
    "\n",
    "longest_non_repeat(str)\n"
   ]
  }
 ],
 "metadata": {
  "kernelspec": {
   "display_name": "Python 3",
   "language": "python",
   "name": "python3"
  },
  "language_info": {
   "codemirror_mode": {
    "name": "ipython",
    "version": 3
   },
   "file_extension": ".py",
   "mimetype": "text/x-python",
   "name": "python",
   "nbconvert_exporter": "python",
   "pygments_lexer": "ipython3",
   "version": "3.6.1"
  }
 },
 "nbformat": 4,
 "nbformat_minor": 2
}
