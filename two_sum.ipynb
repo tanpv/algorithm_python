{
 "cells": [
  {
   "cell_type": "code",
   "execution_count": 16,
   "metadata": {},
   "outputs": [
    {
     "name": "stdout",
     "output_type": "stream",
     "text": [
      "[2, 3]\n"
     ]
    }
   ],
   "source": [
    "\"\"\"\n",
    "Given an array of integers, return indices of the two numbers\n",
    "such that they add up to a specific target.\n",
    "You may assume that each input would have exactly one solution,\n",
    "and you may not use the same element twice.\n",
    "Example:\n",
    "    Given nums = [2, 7, 11, 15], target = 26,\n",
    "    Because nums[0] + nums[1] = 2 + 7 = 9,\n",
    "    return [0, 1].\n",
    "\"\"\"\n",
    "\n",
    "input_array = [2, 7, 11, 15]\n",
    "target = 26\n",
    "\n",
    "def two_sum(input_array, target):\n",
    "    \n",
    "    result = []\n",
    "    \n",
    "    for idx1, num1 in enumerate(input_array):\n",
    "#         print(idx1,num1)\n",
    "        sub_array = input_array[idx1+1:]\n",
    "#         print(sub_array)\n",
    "        found = False\n",
    "\n",
    "        for idx2, num2 in enumerate(sub_array):\n",
    "            if (num1 + num2) == target:\n",
    "#                 print(idx1, idx2)\n",
    "                result.append(idx1)\n",
    "                result.append(idx2+idx1+1)\n",
    "                found = True\n",
    "                break\n",
    "\n",
    "        if found == True:\n",
    "            break\n",
    "    \n",
    "    return result\n",
    "\n",
    "print(two_sum(input_array, target))\n",
    "\n"
   ]
  }
 ],
 "metadata": {
  "kernelspec": {
   "display_name": "Python 3",
   "language": "python",
   "name": "python3"
  },
  "language_info": {
   "codemirror_mode": {
    "name": "ipython",
    "version": 3
   },
   "file_extension": ".py",
   "mimetype": "text/x-python",
   "name": "python",
   "nbconvert_exporter": "python",
   "pygments_lexer": "ipython3",
   "version": "3.6.1"
  }
 },
 "nbformat": 4,
 "nbformat_minor": 2
}
