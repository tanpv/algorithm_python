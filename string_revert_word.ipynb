{
 "cells": [
  {
   "cell_type": "code",
   "execution_count": 29,
   "metadata": {},
   "outputs": [
    {
     "name": "stdout",
     "output_type": "stream",
     "text": [
      "pizza like I and kim keon am I \n"
     ]
    }
   ],
   "source": [
    "# input = I am keon kim and I like pizza\n",
    "# output = pizza like I and kim keon am I\n",
    "\n",
    "str = \"I am keon kim and I like pizza\"\n",
    "\n",
    "# build word array which separate by space\n",
    "w = ''\n",
    "array_word = []\n",
    "for c in str:\n",
    "    if c == ' ':\n",
    "        if w != ' ':\n",
    "            array_word.append(w)\n",
    "            w = ''\n",
    "    else:\n",
    "        w = w + c\n",
    "# add final word\n",
    "array_word.append(w)\n",
    "\n",
    "# build revert word\n",
    "result = \"\"\n",
    "for i,w in enumerate(array_word):\n",
    "    result = result + (array_word[len(array_word)-1-i]) + \" \"\n",
    "print(result)"
   ]
  }
 ],
 "metadata": {
  "kernelspec": {
   "display_name": "Python 3",
   "language": "python",
   "name": "python3"
  },
  "language_info": {
   "codemirror_mode": {
    "name": "ipython",
    "version": 3
   },
   "file_extension": ".py",
   "mimetype": "text/x-python",
   "name": "python",
   "nbconvert_exporter": "python",
   "pygments_lexer": "ipython3",
   "version": "3.6.1"
  }
 },
 "nbformat": 4,
 "nbformat_minor": 2
}
