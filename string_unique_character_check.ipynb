{
 "cells": [
  {
   "cell_type": "code",
   "execution_count": 12,
   "metadata": {},
   "outputs": [
    {
     "data": {
      "text/plain": [
       "True"
      ]
     },
     "execution_count": 12,
     "metadata": {},
     "output_type": "execute_result"
    }
   ],
   "source": [
    "# Implement an algorithm to determine if a string has all unique characters.\n",
    "# \"abc\" return true\n",
    "# \"aabc\" return false\n",
    "\n",
    "input_str = \"abc\"\n",
    "# input_str = \"abcdefagh\"\n",
    "\n",
    "\n",
    "def check_unique(string):\n",
    "    is_unique = True\n",
    "    for i,c in enumerate(input_str):\n",
    "        for i1 in range(i+1,len(input_str)):\n",
    "            if c==input_str[i1]:\n",
    "                print(i,i1)\n",
    "                is_unique = False\n",
    "                break\n",
    "        if(is_unique==False):\n",
    "            break\n",
    "    return is_unique\n",
    "\n",
    "check_unique(input_str)"
   ]
  }
 ],
 "metadata": {
  "kernelspec": {
   "display_name": "Python 3",
   "language": "python",
   "name": "python3"
  },
  "language_info": {
   "codemirror_mode": {
    "name": "ipython",
    "version": 3
   },
   "file_extension": ".py",
   "mimetype": "text/x-python",
   "name": "python",
   "nbconvert_exporter": "python",
   "pygments_lexer": "ipython3",
   "version": "3.6.1"
  }
 },
 "nbformat": 4,
 "nbformat_minor": 2
}
